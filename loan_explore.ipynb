{
 "cells": [
  {
   "cell_type": "code",
   "execution_count": 1,
   "metadata": {},
   "outputs": [],
   "source": [
    "import pandas as pd\n",
    "import numpy as np\n",
    "import json\n",
    "import matplotlib.pyplot as plt\n",
    "import seaborn as sns"
   ]
  },
  {
   "cell_type": "markdown",
   "metadata": {},
   "source": [
    "# Monthly Summary"
   ]
  },
  {
   "cell_type": "code",
   "execution_count": 2,
   "metadata": {
    "collapsed": true
   },
   "outputs": [
    {
     "data": {
      "text/html": [
       "<div>\n",
       "<style scoped>\n",
       "    .dataframe tbody tr th:only-of-type {\n",
       "        vertical-align: middle;\n",
       "    }\n",
       "\n",
       "    .dataframe tbody tr th {\n",
       "        vertical-align: top;\n",
       "    }\n",
       "\n",
       "    .dataframe thead th {\n",
       "        text-align: right;\n",
       "    }\n",
       "</style>\n",
       "<table border=\"1\" class=\"dataframe\">\n",
       "  <thead>\n",
       "    <tr style=\"text-align: right;\">\n",
       "      <th></th>\n",
       "      <th>LoanGuid</th>\n",
       "      <th>LoanId</th>\n",
       "      <th>BorrowerFirstName</th>\n",
       "      <th>BorrowerLastName</th>\n",
       "      <th>SubjectAddress1</th>\n",
       "      <th>SubjectAddress2</th>\n",
       "      <th>SubjectCity</th>\n",
       "      <th>SubjectState</th>\n",
       "      <th>SubjectZip</th>\n",
       "      <th>SubjectAppraisedAmount</th>\n",
       "      <th>LoanAmount</th>\n",
       "      <th>InterestRate</th>\n",
       "    </tr>\n",
       "  </thead>\n",
       "  <tbody>\n",
       "    <tr>\n",
       "      <th>0</th>\n",
       "      <td>f165ddb4-9788-43c1-89e9-24a720268dbf</td>\n",
       "      <td>43452</td>\n",
       "      <td>Anthony</td>\n",
       "      <td>Gonzalez</td>\n",
       "      <td>14613 E Philipot Path</td>\n",
       "      <td>None</td>\n",
       "      <td>Greenfield</td>\n",
       "      <td>OR</td>\n",
       "      <td>70547-5000</td>\n",
       "      <td>794914</td>\n",
       "      <td>730502</td>\n",
       "      <td>3.45</td>\n",
       "    </tr>\n",
       "    <tr>\n",
       "      <th>1</th>\n",
       "      <td>18d1c151-5655-4d45-a945-ac2c6917c149</td>\n",
       "      <td>43274</td>\n",
       "      <td>Ellie</td>\n",
       "      <td>Baker</td>\n",
       "      <td>8935 W Kitcat Terrace</td>\n",
       "      <td>None</td>\n",
       "      <td>Ashkum</td>\n",
       "      <td>AR</td>\n",
       "      <td>56727-1887</td>\n",
       "      <td>1272338</td>\n",
       "      <td>770080</td>\n",
       "      <td>2.04</td>\n",
       "    </tr>\n",
       "    <tr>\n",
       "      <th>2</th>\n",
       "      <td>d6f31e4e-1c5f-4f98-ab1e-935b3b69027c</td>\n",
       "      <td>47380</td>\n",
       "      <td>Hazel</td>\n",
       "      <td>Perez</td>\n",
       "      <td>751 E Arbutus Street</td>\n",
       "      <td></td>\n",
       "      <td>Farmersville</td>\n",
       "      <td>NJ</td>\n",
       "      <td>75612-5890</td>\n",
       "      <td>607500</td>\n",
       "      <td>31148</td>\n",
       "      <td>3.78</td>\n",
       "    </tr>\n",
       "    <tr>\n",
       "      <th>3</th>\n",
       "      <td>29dccb60-2494-4f5f-a276-7692d4b0c192</td>\n",
       "      <td>12818</td>\n",
       "      <td>James</td>\n",
       "      <td>Jones</td>\n",
       "      <td>11532 S Bell Street</td>\n",
       "      <td>Apt. 62</td>\n",
       "      <td>Davis Junction</td>\n",
       "      <td>MN</td>\n",
       "      <td>56223-7304</td>\n",
       "      <td>983463</td>\n",
       "      <td>260164</td>\n",
       "      <td>2.86</td>\n",
       "    </tr>\n",
       "    <tr>\n",
       "      <th>4</th>\n",
       "      <td>51d3fbb9-6164-43c8-a139-1adbb44a1e73</td>\n",
       "      <td>59167</td>\n",
       "      <td>Caroline</td>\n",
       "      <td>Reed</td>\n",
       "      <td>5213 W Connaught Close</td>\n",
       "      <td></td>\n",
       "      <td>Harvard</td>\n",
       "      <td>RI</td>\n",
       "      <td>83233-1854</td>\n",
       "      <td>1560498</td>\n",
       "      <td>808411</td>\n",
       "      <td>4.51</td>\n",
       "    </tr>\n",
       "  </tbody>\n",
       "</table>\n",
       "</div>"
      ],
      "text/plain": [
       "                               LoanGuid  LoanId BorrowerFirstName  \\\n",
       "0  f165ddb4-9788-43c1-89e9-24a720268dbf   43452           Anthony   \n",
       "1  18d1c151-5655-4d45-a945-ac2c6917c149   43274             Ellie   \n",
       "2  d6f31e4e-1c5f-4f98-ab1e-935b3b69027c   47380             Hazel   \n",
       "3  29dccb60-2494-4f5f-a276-7692d4b0c192   12818             James   \n",
       "4  51d3fbb9-6164-43c8-a139-1adbb44a1e73   59167          Caroline   \n",
       "\n",
       "  BorrowerLastName         SubjectAddress1 SubjectAddress2     SubjectCity  \\\n",
       "0         Gonzalez   14613 E Philipot Path            None      Greenfield   \n",
       "1            Baker   8935 W Kitcat Terrace            None          Ashkum   \n",
       "2            Perez    751 E Arbutus Street                    Farmersville   \n",
       "3            Jones     11532 S Bell Street         Apt. 62  Davis Junction   \n",
       "4             Reed  5213 W Connaught Close                         Harvard   \n",
       "\n",
       "  SubjectState  SubjectZip  SubjectAppraisedAmount  LoanAmount  InterestRate  \n",
       "0           OR  70547-5000                  794914      730502          3.45  \n",
       "1           AR  56727-1887                 1272338      770080          2.04  \n",
       "2           NJ  75612-5890                  607500       31148          3.78  \n",
       "3           MN  56223-7304                  983463      260164          2.86  \n",
       "4           RI  83233-1854                 1560498      808411          4.51  "
      ]
     },
     "execution_count": 2,
     "metadata": {},
     "output_type": "execute_result"
    }
   ],
   "source": [
    "loan_data = pd.read_json(\"dataset/loans.json\")\n",
    "loan_data.head(5)"
   ]
  },
  {
   "cell_type": "code",
   "execution_count": 14,
   "metadata": {},
   "outputs": [],
   "source": [
    "pd.options.display.float_format = '{:.2f}'.format"
   ]
  },
  {
   "cell_type": "code",
   "execution_count": 5,
   "metadata": {
    "collapsed": true
   },
   "outputs": [
    {
     "data": {
      "text/plain": [
       "array(['OR', 'AR', 'NJ', 'MN', 'RI', 'MT', 'AK', 'NH', 'NC', 'SC', 'IN',\n",
       "       'FL', 'UT', 'SD', 'PA', 'ND', 'CO', 'HI', 'TX', 'WY', 'NV', 'NY',\n",
       "       'IA', 'KS', 'LA', 'CA', 'MA', 'TN', 'KY', 'ME', 'GA', 'MS', 'WV',\n",
       "       'NM', 'AZ', 'VA', 'MO', 'DE', 'IL', 'NE', 'AL', 'MD', 'OK', 'VT',\n",
       "       'WI', 'CT', 'ID', 'WA', 'OH', 'MI'], dtype=object)"
      ]
     },
     "execution_count": 5,
     "metadata": {},
     "output_type": "execute_result"
    }
   ],
   "source": [
    "loan_data['SubjectState'].unique()"
   ]
  },
  {
   "cell_type": "code",
   "execution_count": 15,
   "metadata": {
    "collapsed": true
   },
   "outputs": [
    {
     "data": {
      "text/plain": [
       "Index(['LoanGuid', 'LoanId', 'BorrowerFirstName', 'BorrowerLastName',\n",
       "       'SubjectAddress1', 'SubjectAddress2', 'SubjectCity', 'SubjectState',\n",
       "       'SubjectZip', 'SubjectAppraisedAmount', 'LoanAmount', 'InterestRate'],\n",
       "      dtype='object')"
      ]
     },
     "execution_count": 15,
     "metadata": {},
     "output_type": "execute_result"
    }
   ],
   "source": [
    "column1 = ['LoanAmount', 'SubjectAppraisedAmount', 'InterestRate']\n",
    "dataframe = loan_data['LoanAmount'].map(\"{:,.2f}\".format)"
   ]
  },
  {
   "cell_type": "code",
   "execution_count": 70,
   "metadata": {},
   "outputs": [],
   "source": [
    "df = loan_data.agg({\n",
    "    \"LoanAmount\":[\"sum\", \"average\", \"median\", \"min\", \"max\"],\n",
    "    \"SubjectAppraisedAmount\":[\"sum\", \"average\", \"median\", \"min\", \"max\"],\n",
    "    \"InterestRate\":[\"sum\", \"average\", \"median\", \"min\", \"max\"],\n",
    "}) "
   ]
  },
  {
   "cell_type": "code",
   "execution_count": 98,
   "metadata": {},
   "outputs": [],
   "source": [
    "df = df.rename(columns={'LoanAmount': 'LoanAmountSummary', 'SubjectAppraisedAmount': 'SubjectAppraisedAmountSummary', 'InterestRate':'InterestRateSummary'})"
   ]
  },
  {
   "cell_type": "code",
   "execution_count": 99,
   "metadata": {},
   "outputs": [
    {
     "data": {
      "text/html": [
       "<div>\n",
       "<style scoped>\n",
       "    .dataframe tbody tr th:only-of-type {\n",
       "        vertical-align: middle;\n",
       "    }\n",
       "\n",
       "    .dataframe tbody tr th {\n",
       "        vertical-align: top;\n",
       "    }\n",
       "\n",
       "    .dataframe thead th {\n",
       "        text-align: right;\n",
       "    }\n",
       "</style>\n",
       "<table border=\"1\" class=\"dataframe\">\n",
       "  <thead>\n",
       "    <tr style=\"text-align: right;\">\n",
       "      <th></th>\n",
       "      <th>LoanAmountSummary</th>\n",
       "      <th>SubjectAppraisedAmountSummary</th>\n",
       "      <th>InterestRateSummary</th>\n",
       "    </tr>\n",
       "  </thead>\n",
       "  <tbody>\n",
       "    <tr>\n",
       "      <th>sum</th>\n",
       "      <td>504220272.00</td>\n",
       "      <td>1004087165.00</td>\n",
       "      <td>3504.06</td>\n",
       "    </tr>\n",
       "    <tr>\n",
       "      <th>average</th>\n",
       "      <td>504220.27</td>\n",
       "      <td>1004087.17</td>\n",
       "      <td>3.50</td>\n",
       "    </tr>\n",
       "    <tr>\n",
       "      <th>median</th>\n",
       "      <td>501297.00</td>\n",
       "      <td>999091.00</td>\n",
       "      <td>3.52</td>\n",
       "    </tr>\n",
       "    <tr>\n",
       "      <th>min</th>\n",
       "      <td>97.00</td>\n",
       "      <td>43254.00</td>\n",
       "      <td>2.00</td>\n",
       "    </tr>\n",
       "    <tr>\n",
       "      <th>max</th>\n",
       "      <td>999539.00</td>\n",
       "      <td>1987010.00</td>\n",
       "      <td>4.99</td>\n",
       "    </tr>\n",
       "  </tbody>\n",
       "</table>\n",
       "</div>"
      ],
      "text/plain": [
       "         LoanAmountSummary  SubjectAppraisedAmountSummary  InterestRateSummary\n",
       "sum           504220272.00                  1004087165.00              3504.06\n",
       "average          504220.27                     1004087.17                 3.50\n",
       "median           501297.00                      999091.00                 3.52\n",
       "min                  97.00                       43254.00                 2.00\n",
       "max              999539.00                     1987010.00                 4.99"
      ]
     },
     "execution_count": 99,
     "metadata": {},
     "output_type": "execute_result"
    }
   ],
   "source": [
    "df"
   ]
  },
  {
   "cell_type": "code",
   "execution_count": 100,
   "metadata": {},
   "outputs": [],
   "source": [
    "df.to_json(r'monthlySummary.json')"
   ]
  },
  {
   "cell_type": "code",
   "execution_count": 77,
   "metadata": {
    "collapsed": true
   },
   "outputs": [
    {
     "data": {
      "text/plain": [
       "'{\\n    \"LoanAmount\": {\\n        \"sum\": 504220272.0,\\n        \"average\": 504220.272,\\n        \"median\": 501297.0,\\n        \"min\": 97.0,\\n        \"max\": 999539.0\\n    },\\n    \"SubjectAppraisedAmount\": {\\n        \"sum\": 1004087165.0,\\n        \"average\": 1004087.165,\\n        \"median\": 999091.0,\\n        \"min\": 43254.0,\\n        \"max\": 1987010.0\\n    },\\n    \"InterestRate\": {\\n        \"sum\": 3504.06,\\n        \"average\": 3.50406,\\n        \"median\": 3.52,\\n        \"min\": 2.0,\\n        \"max\": 4.99\\n    }\\n}'"
      ]
     },
     "execution_count": 77,
     "metadata": {},
     "output_type": "execute_result"
    }
   ],
   "source": [
    "result = df.to_json(orient=\"columns\")\n",
    "parsed = json.loads(result)\n",
    "json.dumps(parsed, indent=4)"
   ]
  },
  {
   "cell_type": "code",
   "execution_count": 78,
   "metadata": {
    "collapsed": true
   },
   "outputs": [
    {
     "data": {
      "text/plain": [
       "{'LoanAmount': {'sum': 504220272.0,\n",
       "  'average': 504220.272,\n",
       "  'median': 501297.0,\n",
       "  'min': 97.0,\n",
       "  'max': 999539.0},\n",
       " 'SubjectAppraisedAmount': {'sum': 1004087165.0,\n",
       "  'average': 1004087.165,\n",
       "  'median': 999091.0,\n",
       "  'min': 43254.0,\n",
       "  'max': 1987010.0},\n",
       " 'InterestRate': {'sum': 3504.06,\n",
       "  'average': 3.50406,\n",
       "  'median': 3.52,\n",
       "  'min': 2.0,\n",
       "  'max': 4.99}}"
      ]
     },
     "execution_count": 78,
     "metadata": {},
     "output_type": "execute_result"
    }
   ],
   "source": [
    "parsed"
   ]
  },
  {
   "cell_type": "code",
   "execution_count": null,
   "metadata": {},
   "outputs": [],
   "source": []
  },
  {
   "cell_type": "code",
   "execution_count": null,
   "metadata": {},
   "outputs": [],
   "source": []
  },
  {
   "cell_type": "code",
   "execution_count": null,
   "metadata": {},
   "outputs": [],
   "source": []
  },
  {
   "cell_type": "code",
   "execution_count": null,
   "metadata": {},
   "outputs": [],
   "source": []
  },
  {
   "cell_type": "markdown",
   "metadata": {},
   "source": [
    "# Monthly State"
   ]
  },
  {
   "cell_type": "code",
   "execution_count": 48,
   "metadata": {},
   "outputs": [],
   "source": [
    "text_file = open(\"monthlyByState.json\", \"w\")"
   ]
  },
  {
   "cell_type": "code",
   "execution_count": 49,
   "metadata": {},
   "outputs": [
    {
     "data": {
      "text/plain": [
       "Index(['LoanGuid', 'LoanId', 'BorrowerFirstName', 'BorrowerLastName',\n",
       "       'SubjectAddress1', 'SubjectAddress2', 'SubjectCity', 'SubjectState',\n",
       "       'SubjectZip', 'SubjectAppraisedAmount', 'LoanAmount', 'InterestRate'],\n",
       "      dtype='object')"
      ]
     },
     "execution_count": 49,
     "metadata": {},
     "output_type": "execute_result"
    }
   ],
   "source": [
    "loan_data.columns"
   ]
  },
  {
   "cell_type": "code",
   "execution_count": 50,
   "metadata": {},
   "outputs": [],
   "source": [
    "columns_to_keep = ['SubjectState', 'SubjectAppraisedAmount', 'LoanAmount', 'InterestRate']"
   ]
  },
  {
   "cell_type": "code",
   "execution_count": 51,
   "metadata": {
    "collapsed": true
   },
   "outputs": [
    {
     "data": {
      "text/html": [
       "<div>\n",
       "<style scoped>\n",
       "    .dataframe tbody tr th:only-of-type {\n",
       "        vertical-align: middle;\n",
       "    }\n",
       "\n",
       "    .dataframe tbody tr th {\n",
       "        vertical-align: top;\n",
       "    }\n",
       "\n",
       "    .dataframe thead th {\n",
       "        text-align: right;\n",
       "    }\n",
       "</style>\n",
       "<table border=\"1\" class=\"dataframe\">\n",
       "  <thead>\n",
       "    <tr style=\"text-align: right;\">\n",
       "      <th></th>\n",
       "      <th>SubjectState</th>\n",
       "      <th>SubjectAppraisedAmount</th>\n",
       "      <th>LoanAmount</th>\n",
       "      <th>InterestRate</th>\n",
       "    </tr>\n",
       "  </thead>\n",
       "  <tbody>\n",
       "    <tr>\n",
       "      <th>0</th>\n",
       "      <td>OR</td>\n",
       "      <td>794914</td>\n",
       "      <td>730502</td>\n",
       "      <td>3.45</td>\n",
       "    </tr>\n",
       "    <tr>\n",
       "      <th>1</th>\n",
       "      <td>AR</td>\n",
       "      <td>1272338</td>\n",
       "      <td>770080</td>\n",
       "      <td>2.04</td>\n",
       "    </tr>\n",
       "    <tr>\n",
       "      <th>2</th>\n",
       "      <td>NJ</td>\n",
       "      <td>607500</td>\n",
       "      <td>31148</td>\n",
       "      <td>3.78</td>\n",
       "    </tr>\n",
       "    <tr>\n",
       "      <th>3</th>\n",
       "      <td>MN</td>\n",
       "      <td>983463</td>\n",
       "      <td>260164</td>\n",
       "      <td>2.86</td>\n",
       "    </tr>\n",
       "    <tr>\n",
       "      <th>4</th>\n",
       "      <td>RI</td>\n",
       "      <td>1560498</td>\n",
       "      <td>808411</td>\n",
       "      <td>4.51</td>\n",
       "    </tr>\n",
       "    <tr>\n",
       "      <th>5</th>\n",
       "      <td>MT</td>\n",
       "      <td>781174</td>\n",
       "      <td>661555</td>\n",
       "      <td>2.52</td>\n",
       "    </tr>\n",
       "    <tr>\n",
       "      <th>6</th>\n",
       "      <td>AK</td>\n",
       "      <td>1837890</td>\n",
       "      <td>851232</td>\n",
       "      <td>2.56</td>\n",
       "    </tr>\n",
       "    <tr>\n",
       "      <th>7</th>\n",
       "      <td>AK</td>\n",
       "      <td>931241</td>\n",
       "      <td>636153</td>\n",
       "      <td>2.32</td>\n",
       "    </tr>\n",
       "    <tr>\n",
       "      <th>8</th>\n",
       "      <td>AK</td>\n",
       "      <td>1086706</td>\n",
       "      <td>738413</td>\n",
       "      <td>2.41</td>\n",
       "    </tr>\n",
       "    <tr>\n",
       "      <th>9</th>\n",
       "      <td>NH</td>\n",
       "      <td>1139367</td>\n",
       "      <td>829898</td>\n",
       "      <td>2.34</td>\n",
       "    </tr>\n",
       "    <tr>\n",
       "      <th>10</th>\n",
       "      <td>NC</td>\n",
       "      <td>528093</td>\n",
       "      <td>363266</td>\n",
       "      <td>4.59</td>\n",
       "    </tr>\n",
       "    <tr>\n",
       "      <th>11</th>\n",
       "      <td>SC</td>\n",
       "      <td>754163</td>\n",
       "      <td>442301</td>\n",
       "      <td>4.19</td>\n",
       "    </tr>\n",
       "    <tr>\n",
       "      <th>12</th>\n",
       "      <td>IN</td>\n",
       "      <td>1307204</td>\n",
       "      <td>540820</td>\n",
       "      <td>3.81</td>\n",
       "    </tr>\n",
       "    <tr>\n",
       "      <th>13</th>\n",
       "      <td>OR</td>\n",
       "      <td>590533</td>\n",
       "      <td>316631</td>\n",
       "      <td>4.61</td>\n",
       "    </tr>\n",
       "    <tr>\n",
       "      <th>14</th>\n",
       "      <td>FL</td>\n",
       "      <td>946303</td>\n",
       "      <td>862390</td>\n",
       "      <td>3.78</td>\n",
       "    </tr>\n",
       "    <tr>\n",
       "      <th>15</th>\n",
       "      <td>UT</td>\n",
       "      <td>943391</td>\n",
       "      <td>464399</td>\n",
       "      <td>3.74</td>\n",
       "    </tr>\n",
       "    <tr>\n",
       "      <th>16</th>\n",
       "      <td>SD</td>\n",
       "      <td>617068</td>\n",
       "      <td>284198</td>\n",
       "      <td>2.91</td>\n",
       "    </tr>\n",
       "    <tr>\n",
       "      <th>17</th>\n",
       "      <td>PA</td>\n",
       "      <td>1398250</td>\n",
       "      <td>636311</td>\n",
       "      <td>2.50</td>\n",
       "    </tr>\n",
       "    <tr>\n",
       "      <th>18</th>\n",
       "      <td>PA</td>\n",
       "      <td>898845</td>\n",
       "      <td>487077</td>\n",
       "      <td>2.50</td>\n",
       "    </tr>\n",
       "    <tr>\n",
       "      <th>19</th>\n",
       "      <td>MT</td>\n",
       "      <td>858844</td>\n",
       "      <td>243135</td>\n",
       "      <td>2.54</td>\n",
       "    </tr>\n",
       "  </tbody>\n",
       "</table>\n",
       "</div>"
      ],
      "text/plain": [
       "   SubjectState  SubjectAppraisedAmount  LoanAmount  InterestRate\n",
       "0            OR                  794914      730502          3.45\n",
       "1            AR                 1272338      770080          2.04\n",
       "2            NJ                  607500       31148          3.78\n",
       "3            MN                  983463      260164          2.86\n",
       "4            RI                 1560498      808411          4.51\n",
       "5            MT                  781174      661555          2.52\n",
       "6            AK                 1837890      851232          2.56\n",
       "7            AK                  931241      636153          2.32\n",
       "8            AK                 1086706      738413          2.41\n",
       "9            NH                 1139367      829898          2.34\n",
       "10           NC                  528093      363266          4.59\n",
       "11           SC                  754163      442301          4.19\n",
       "12           IN                 1307204      540820          3.81\n",
       "13           OR                  590533      316631          4.61\n",
       "14           FL                  946303      862390          3.78\n",
       "15           UT                  943391      464399          3.74\n",
       "16           SD                  617068      284198          2.91\n",
       "17           PA                 1398250      636311          2.50\n",
       "18           PA                  898845      487077          2.50\n",
       "19           MT                  858844      243135          2.54"
      ]
     },
     "execution_count": 51,
     "metadata": {},
     "output_type": "execute_result"
    }
   ],
   "source": [
    "new_loan_data = loan_data[columns_to_keep]\n",
    "new_loan_data.head(20)"
   ]
  },
  {
   "cell_type": "code",
   "execution_count": 52,
   "metadata": {},
   "outputs": [],
   "source": [
    "new_df = new_loan_data.groupby('SubjectState').agg({\n",
    "    \"LoanAmount\": [\"sum\", \"mean\", \"median\", \"min\", \"max\"],\n",
    "    \"SubjectAppraisedAmount\": [\"sum\", \"mean\", \"median\", \"min\", \"max\"],\n",
    "    \"InterestRate\": [\"sum\", \"mean\", \"median\", \"min\", \"max\"],\n",
    "}) "
   ]
  },
  {
   "cell_type": "code",
   "execution_count": 53,
   "metadata": {},
   "outputs": [],
   "source": [
    "new_df = new_df.rename(columns={'LoanAmount': 'LoanAmountSummary', 'SubjectAppraisedAmount': 'SubjectAppraisedAmountSummary', 'InterestRate':'InterestRateSummary'})"
   ]
  },
  {
   "cell_type": "code",
   "execution_count": 57,
   "metadata": {},
   "outputs": [
    {
     "data": {
      "text/html": [
       "<div>\n",
       "<style scoped>\n",
       "    .dataframe tbody tr th:only-of-type {\n",
       "        vertical-align: middle;\n",
       "    }\n",
       "\n",
       "    .dataframe tbody tr th {\n",
       "        vertical-align: top;\n",
       "    }\n",
       "\n",
       "    .dataframe thead tr th {\n",
       "        text-align: left;\n",
       "    }\n",
       "\n",
       "    .dataframe thead tr:last-of-type th {\n",
       "        text-align: right;\n",
       "    }\n",
       "</style>\n",
       "<table border=\"1\" class=\"dataframe\">\n",
       "  <thead>\n",
       "    <tr>\n",
       "      <th></th>\n",
       "      <th colspan=\"5\" halign=\"left\">LoanAmountSummary</th>\n",
       "      <th colspan=\"5\" halign=\"left\">SubjectAppraisedAmountSummary</th>\n",
       "      <th colspan=\"5\" halign=\"left\">InterestRateSummary</th>\n",
       "    </tr>\n",
       "    <tr>\n",
       "      <th></th>\n",
       "      <th>sum</th>\n",
       "      <th>mean</th>\n",
       "      <th>median</th>\n",
       "      <th>min</th>\n",
       "      <th>max</th>\n",
       "      <th>sum</th>\n",
       "      <th>mean</th>\n",
       "      <th>median</th>\n",
       "      <th>min</th>\n",
       "      <th>max</th>\n",
       "      <th>sum</th>\n",
       "      <th>mean</th>\n",
       "      <th>median</th>\n",
       "      <th>min</th>\n",
       "      <th>max</th>\n",
       "    </tr>\n",
       "    <tr>\n",
       "      <th>SubjectState</th>\n",
       "      <th></th>\n",
       "      <th></th>\n",
       "      <th></th>\n",
       "      <th></th>\n",
       "      <th></th>\n",
       "      <th></th>\n",
       "      <th></th>\n",
       "      <th></th>\n",
       "      <th></th>\n",
       "      <th></th>\n",
       "      <th></th>\n",
       "      <th></th>\n",
       "      <th></th>\n",
       "      <th></th>\n",
       "      <th></th>\n",
       "    </tr>\n",
       "  </thead>\n",
       "  <tbody>\n",
       "    <tr>\n",
       "      <th>AK</th>\n",
       "      <td>15907777</td>\n",
       "      <td>611837.58</td>\n",
       "      <td>736835.00</td>\n",
       "      <td>3849</td>\n",
       "      <td>994712</td>\n",
       "      <td>30104447</td>\n",
       "      <td>1157863.35</td>\n",
       "      <td>1092718.50</td>\n",
       "      <td>469916</td>\n",
       "      <td>1926975</td>\n",
       "      <td>83.21</td>\n",
       "      <td>3.20</td>\n",
       "      <td>2.95</td>\n",
       "      <td>2.04</td>\n",
       "      <td>4.85</td>\n",
       "    </tr>\n",
       "    <tr>\n",
       "      <th>AL</th>\n",
       "      <td>7394120</td>\n",
       "      <td>389164.21</td>\n",
       "      <td>333852.00</td>\n",
       "      <td>95078</td>\n",
       "      <td>956158</td>\n",
       "      <td>17733573</td>\n",
       "      <td>933345.95</td>\n",
       "      <td>1064819.00</td>\n",
       "      <td>290953</td>\n",
       "      <td>1743768</td>\n",
       "      <td>70.03</td>\n",
       "      <td>3.69</td>\n",
       "      <td>3.81</td>\n",
       "      <td>2.03</td>\n",
       "      <td>4.84</td>\n",
       "    </tr>\n",
       "    <tr>\n",
       "      <th>AR</th>\n",
       "      <td>7715347</td>\n",
       "      <td>482209.19</td>\n",
       "      <td>449020.50</td>\n",
       "      <td>44185</td>\n",
       "      <td>909811</td>\n",
       "      <td>15793049</td>\n",
       "      <td>987065.56</td>\n",
       "      <td>1051584.50</td>\n",
       "      <td>330901</td>\n",
       "      <td>1566136</td>\n",
       "      <td>58.59</td>\n",
       "      <td>3.66</td>\n",
       "      <td>4.06</td>\n",
       "      <td>2.04</td>\n",
       "      <td>4.99</td>\n",
       "    </tr>\n",
       "    <tr>\n",
       "      <th>AZ</th>\n",
       "      <td>12621426</td>\n",
       "      <td>525892.75</td>\n",
       "      <td>575965.50</td>\n",
       "      <td>30996</td>\n",
       "      <td>977859</td>\n",
       "      <td>23839561</td>\n",
       "      <td>993315.04</td>\n",
       "      <td>965179.50</td>\n",
       "      <td>285356</td>\n",
       "      <td>1921993</td>\n",
       "      <td>85.28</td>\n",
       "      <td>3.55</td>\n",
       "      <td>3.51</td>\n",
       "      <td>2.35</td>\n",
       "      <td>4.95</td>\n",
       "    </tr>\n",
       "  </tbody>\n",
       "</table>\n",
       "</div>"
      ],
      "text/plain": [
       "             LoanAmountSummary                                     \\\n",
       "                           sum      mean    median    min     max   \n",
       "SubjectState                                                        \n",
       "AK                    15907777 611837.58 736835.00   3849  994712   \n",
       "AL                     7394120 389164.21 333852.00  95078  956158   \n",
       "AR                     7715347 482209.19 449020.50  44185  909811   \n",
       "AZ                    12621426 525892.75 575965.50  30996  977859   \n",
       "\n",
       "             SubjectAppraisedAmountSummary                                \\\n",
       "                                       sum       mean     median     min   \n",
       "SubjectState                                                               \n",
       "AK                                30104447 1157863.35 1092718.50  469916   \n",
       "AL                                17733573  933345.95 1064819.00  290953   \n",
       "AR                                15793049  987065.56 1051584.50  330901   \n",
       "AZ                                23839561  993315.04  965179.50  285356   \n",
       "\n",
       "                      InterestRateSummary                        \n",
       "                  max                 sum mean median  min  max  \n",
       "SubjectState                                                     \n",
       "AK            1926975               83.21 3.20   2.95 2.04 4.85  \n",
       "AL            1743768               70.03 3.69   3.81 2.03 4.84  \n",
       "AR            1566136               58.59 3.66   4.06 2.04 4.99  \n",
       "AZ            1921993               85.28 3.55   3.51 2.35 4.95  "
      ]
     },
     "execution_count": 57,
     "metadata": {},
     "output_type": "execute_result"
    }
   ],
   "source": [
    "new_df.head(4)"
   ]
  },
  {
   "cell_type": "code",
   "execution_count": 54,
   "metadata": {},
   "outputs": [],
   "source": [
    "def nest(d: dict) -> dict:\n",
    "    result = {}\n",
    "    for key, value in d.items():\n",
    "        target = result\n",
    "        for k in key[:-1]:  # traverse all keys but the last\n",
    "            target = target.setdefault(k, {})\n",
    "        target[key[-1]] = value\n",
    "    return result\n"
   ]
  },
  {
   "cell_type": "code",
   "execution_count": 55,
   "metadata": {},
   "outputs": [],
   "source": [
    "def df_to_nested_dict(df: pd.DataFrame) -> dict:\n",
    "    d = df.to_dict(orient='index')\n",
    "    data = {k: nest(v) for k, v in d.items()}\n",
    "    text_file.write(json.dumps(data))"
   ]
  },
  {
   "cell_type": "code",
   "execution_count": 56,
   "metadata": {},
   "outputs": [],
   "source": [
    "df_to_nested_dict(new_df)"
   ]
  },
  {
   "cell_type": "code",
   "execution_count": null,
   "metadata": {},
   "outputs": [],
   "source": []
  },
  {
   "cell_type": "code",
   "execution_count": null,
   "metadata": {},
   "outputs": [],
   "source": []
  }
 ],
 "metadata": {
  "kernelspec": {
   "display_name": "Python 3",
   "language": "python",
   "name": "python3"
  },
  "language_info": {
   "codemirror_mode": {
    "name": "ipython",
    "version": 3
   },
   "file_extension": ".py",
   "mimetype": "text/x-python",
   "name": "python",
   "nbconvert_exporter": "python",
   "pygments_lexer": "ipython3",
   "version": "3.8.8"
  }
 },
 "nbformat": 4,
 "nbformat_minor": 4
}
